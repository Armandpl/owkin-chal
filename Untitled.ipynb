{
 "cells": [
  {
   "cell_type": "code",
   "execution_count": 1,
   "id": "integral-breach",
   "metadata": {},
   "outputs": [],
   "source": [
    "import pandas as pd"
   ]
  },
  {
   "cell_type": "code",
   "execution_count": 2,
   "id": "recreational-beaver",
   "metadata": {},
   "outputs": [],
   "source": [
    "labels = pd.read_csv(\"data/train_input/train_tile_annotations.csv\")"
   ]
  },
  {
   "cell_type": "code",
   "execution_count": 3,
   "id": "asian-receipt",
   "metadata": {},
   "outputs": [
    {
     "data": {
      "text/html": [
       "<div>\n",
       "<style scoped>\n",
       "    .dataframe tbody tr th:only-of-type {\n",
       "        vertical-align: middle;\n",
       "    }\n",
       "\n",
       "    .dataframe tbody tr th {\n",
       "        vertical-align: top;\n",
       "    }\n",
       "\n",
       "    .dataframe thead th {\n",
       "        text-align: right;\n",
       "    }\n",
       "</style>\n",
       "<table border=\"1\" class=\"dataframe\">\n",
       "  <thead>\n",
       "    <tr style=\"text-align: right;\">\n",
       "      <th></th>\n",
       "      <th>Unnamed: 0</th>\n",
       "      <th>Target</th>\n",
       "    </tr>\n",
       "  </thead>\n",
       "  <tbody>\n",
       "    <tr>\n",
       "      <th>0</th>\n",
       "      <td>ID_387_annotated_tile_0_15_69_30.jpg</td>\n",
       "      <td>0.0</td>\n",
       "    </tr>\n",
       "    <tr>\n",
       "      <th>1</th>\n",
       "      <td>ID_387_annotated_tile_1_15_23_53.jpg</td>\n",
       "      <td>0.0</td>\n",
       "    </tr>\n",
       "    <tr>\n",
       "      <th>2</th>\n",
       "      <td>ID_387_annotated_tile_2_15_58_20.jpg</td>\n",
       "      <td>0.0</td>\n",
       "    </tr>\n",
       "    <tr>\n",
       "      <th>3</th>\n",
       "      <td>ID_387_annotated_tile_3_15_67_12.jpg</td>\n",
       "      <td>0.0</td>\n",
       "    </tr>\n",
       "    <tr>\n",
       "      <th>4</th>\n",
       "      <td>ID_387_annotated_tile_4_15_57_20.jpg</td>\n",
       "      <td>0.0</td>\n",
       "    </tr>\n",
       "  </tbody>\n",
       "</table>\n",
       "</div>"
      ],
      "text/plain": [
       "                             Unnamed: 0  Target\n",
       "0  ID_387_annotated_tile_0_15_69_30.jpg     0.0\n",
       "1  ID_387_annotated_tile_1_15_23_53.jpg     0.0\n",
       "2  ID_387_annotated_tile_2_15_58_20.jpg     0.0\n",
       "3  ID_387_annotated_tile_3_15_67_12.jpg     0.0\n",
       "4  ID_387_annotated_tile_4_15_57_20.jpg     0.0"
      ]
     },
     "execution_count": 3,
     "metadata": {},
     "output_type": "execute_result"
    }
   ],
   "source": [
    "labels.head()"
   ]
  },
  {
   "cell_type": "code",
   "execution_count": 14,
   "id": "tamil-concept",
   "metadata": {},
   "outputs": [
    {
     "name": "stdout",
     "output_type": "stream",
     "text": [
      "data/train_input/images/ID_387_annotated/ID_387_annotated_tile_4_15_57_20.jpg\n"
     ]
    }
   ],
   "source": [
    "import os\n",
    "\n",
    "def name_to_path(fname):\n",
    "    ID = fname.split(\"_\")[1]\n",
    "    folder = \"data/train_input/images/ID_{ID}_annotated\".format(ID=ID)\n",
    "    return os.path.join(folder, fname)\n",
    "\n",
    "print(name_to_path(\"ID_387_annotated_tile_4_15_57_20.jpg\"))"
   ]
  },
  {
   "cell_type": "code",
   "execution_count": 15,
   "id": "spoken-xerox",
   "metadata": {},
   "outputs": [],
   "source": [
    "from shutil import copyfile\n",
    "out_negative = \"ready_to_train/0\"\n",
    "out_positive = \"ready_to_train/1\"\n",
    "os.makedirs(out_negative, exist_ok=True)\n",
    "os.makedirs(out_positive, exist_ok=True)\n",
    "\n",
    "for index, row in labels.iterrows():\n",
    "    fname = row[0]\n",
    "    label = row[1]\n",
    "    \n",
    "    if label == 0:\n",
    "        out_dir = out_negative\n",
    "    else:\n",
    "        out_dir = out_positive\n",
    "\n",
    "    copyfile(name_to_path(fname), os.path.join(out_dir, fname))\n",
    "        "
   ]
  },
  {
   "cell_type": "code",
   "execution_count": null,
   "id": "frequent-librarian",
   "metadata": {},
   "outputs": [],
   "source": []
  }
 ],
 "metadata": {
  "kernelspec": {
   "display_name": "owkin",
   "language": "python",
   "name": "owkin"
  },
  "language_info": {
   "codemirror_mode": {
    "name": "ipython",
    "version": 3
   },
   "file_extension": ".py",
   "mimetype": "text/x-python",
   "name": "python",
   "nbconvert_exporter": "python",
   "pygments_lexer": "ipython3",
   "version": "3.7.9"
  }
 },
 "nbformat": 4,
 "nbformat_minor": 5
}
